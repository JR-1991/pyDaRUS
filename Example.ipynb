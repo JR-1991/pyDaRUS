{
 "cells": [
  {
   "cell_type": "code",
   "execution_count": 1,
   "id": "5733c571-510f-483d-9a58-ad183b4d4992",
   "metadata": {},
   "outputs": [],
   "source": [
    "from pyDaRUS import Citation, Process, Dataset\n",
    "from pyDaRUS.metadatablocks.citation import SubjectEnum, IdentifierScheme"
   ]
  },
  {
   "cell_type": "markdown",
   "id": "ebe0fec1-7231-42d1-8628-969a50ea67f0",
   "metadata": {},
   "source": [
    "## Creating and uploading a dataset to Dataverse"
   ]
  },
  {
   "cell_type": "code",
   "execution_count": 2,
   "id": "69ce1abe-5132-4e67-9792-56313eb3bd74",
   "metadata": {},
   "outputs": [],
   "source": [
    "# Initialize Dataset and metadatablocks\n",
    "dataset = Dataset()\n",
    "\n",
    "# Initialize metadatablocks you like to use\n",
    "citation = Citation()\n",
    "process = Process()"
   ]
  },
  {
   "cell_type": "code",
   "execution_count": 3,
   "id": "a46ffa70-33ea-4cd2-9d39-145eeafd0a39",
   "metadata": {},
   "outputs": [],
   "source": [
    "# Fill in citation relevant fields (TODO: Make sure these are required)\n",
    "citation.title = \"Some Title\"\n",
    "citation.subject = [SubjectEnum.chemistry]\n",
    "\n",
    "# Use add function to append compound objects without\n",
    "#having to import the corresponding class\n",
    "citation.add_description(text=\"Some description\", date=\"1991\")\n",
    "citation.add_author(name=\"Jan Range\", affiliation=\"SimTech\")\n",
    "citation.add_contact(name=\"Jan Range\", email=\"jan.range@simtech.uni-stuttgart.de\")"
   ]
  },
  {
   "cell_type": "code",
   "execution_count": 4,
   "id": "8f4428f2-0055-4b2d-97c2-f2ca9de181e9",
   "metadata": {},
   "outputs": [],
   "source": [
    "# Fill in process relevant fields\n",
    "process.add_processing_methods(name=\"Some Process\", parameters=\"Param1, Param2\")\n",
    "process.add_method_parameters(name=\"Param1\", value=10)\n",
    "process.add_method_parameters(name=\"Param2\", textual_value=\"Textual\")"
   ]
  },
  {
   "cell_type": "code",
   "execution_count": 5,
   "id": "7deb573a-1f19-4f96-a39a-1a397a630eca",
   "metadata": {},
   "outputs": [],
   "source": [
    "# Add each metadatablock to the dataset\n",
    "dataset.add_metadatablock(citation)\n",
    "dataset.add_metadatablock(process)"
   ]
  },
  {
   "cell_type": "code",
   "execution_count": 6,
   "id": "ce8a408a-a543-443d-a315-da19ab86df5c",
   "metadata": {},
   "outputs": [],
   "source": [
    "# If given add files and directories\n",
    "dataset.add_directory(\"Examples/dataset_upload/\")"
   ]
  },
  {
   "cell_type": "code",
   "execution_count": 7,
   "id": "033ce1f1-009c-4dbc-9d1f-0ee0e8f049b5",
   "metadata": {},
   "outputs": [
    {
     "name": "stdout",
     "output_type": "stream",
     "text": [
      "Dataset with pid 'doi:10.18419/darus-2660' created.\n",
      "https://darus.uni-stuttgart.de/dataset.xhtml?persistentId=doi:10.18419/darus-2660\n"
     ]
    }
   ],
   "source": [
    "# Finally, upload the dataset to dataverse\n",
    "# URL and API_TOKEN will be inferred from the env\n",
    "p_id = dataset.upload(dataverse_name=\"playground\")"
   ]
  },
  {
   "cell_type": "markdown",
   "id": "ba9e3f45-cb5a-4004-9b26-f3e199418121",
   "metadata": {},
   "source": [
    "## Download and edit a dataset from Dataverse"
   ]
  },
  {
   "cell_type": "code",
   "execution_count": 8,
   "id": "84a55efe-bfa8-48be-b446-acc2a3ea994d",
   "metadata": {},
   "outputs": [
    {
     "name": "stderr",
     "output_type": "stream",
     "text": [
      "Downloading dataset files: 100%|███████████████████████████████████████████████████| 2/2 [00:00<00:00,  2.58it/s]\n"
     ]
    }
   ],
   "source": [
    "# Retrieve a dataset from Dataverse by using the given DOI/PID\n",
    "dataset = Dataset.from_dataverse_doi(p_id, filedir=\"Examples/dataset_download/\")\n",
    "\n",
    "with open(\"Examples/dataset_download/test_file.txt\", \"w\") as f:\n",
    "    f.write(\"Has changed\")\n",
    "    \n",
    "# Add new files\n",
    "dataset.add_file(dv_path=\"nu_file.txt\", local_path=\"Examples/dataset_download/nu_file.txt\")\n",
    "\n",
    "# Edit the dataset\n",
    "dataset.process.add_method_parameters(name=\"Param3\", symbol=\"p3\", unit=\"kg\", value=100.0)\n",
    "dataset.citation.add_author(name=\"Max Mustermann\", affiliation=\"SimTech\")"
   ]
  },
  {
   "cell_type": "code",
   "execution_count": 9,
   "id": "3ff47581-abba-447a-b12e-9ac39fcd1da7",
   "metadata": {},
   "outputs": [],
   "source": [
    "# Now of update the dataset on Dataverse using .update\n",
    "# Unfortunately you have to provide your contact again\n",
    "# since DaRUS wont include mails when fetchin an entry\n",
    "\n",
    "dataset.update(contact_name=\"Jan Range\", contact_mail=\"jan.range@simtech.uni-stuttgart.de\")"
   ]
  }
 ],
 "metadata": {
  "kernelspec": {
   "display_name": "easydataverse",
   "language": "python",
   "name": "easydataverse"
  },
  "language_info": {
   "codemirror_mode": {
    "name": "ipython",
    "version": 3
   },
   "file_extension": ".py",
   "mimetype": "text/x-python",
   "name": "python",
   "nbconvert_exporter": "python",
   "pygments_lexer": "ipython3",
   "version": "3.10.1"
  }
 },
 "nbformat": 4,
 "nbformat_minor": 5
}
