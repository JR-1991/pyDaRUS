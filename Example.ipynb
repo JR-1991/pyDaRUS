{
 "cells": [
  {
   "cell_type": "code",
   "execution_count": 1,
   "id": "5733c571-510f-483d-9a58-ad183b4d4992",
   "metadata": {},
   "outputs": [],
   "source": [
    "from pyDaRUS import Citation, Process, Dataset\n",
    "from pyDaRUS.metadatablocks.citation import SubjectEnum, IdentifierScheme"
   ]
  },
  {
   "cell_type": "markdown",
   "id": "ebe0fec1-7231-42d1-8628-969a50ea67f0",
   "metadata": {},
   "source": [
    "## Creating and uploading a dataset to Dataverse"
   ]
  },
  {
   "cell_type": "code",
   "execution_count": 10,
   "id": "69ce1abe-5132-4e67-9792-56313eb3bd74",
   "metadata": {},
   "outputs": [],
   "source": [
    "# Initialize Dataset and metadatablocks\n",
    "dataset = Dataset()\n",
    "citation = Citation()\n",
    "process = Process()"
   ]
  },
  {
   "cell_type": "code",
   "execution_count": 11,
   "id": "a46ffa70-33ea-4cd2-9d39-145eeafd0a39",
   "metadata": {},
   "outputs": [],
   "source": [
    "# Fill in citation relevant fields (TODO: Make sure these are required)\n",
    "citation.title = \"Some Title\"\n",
    "citation.subject = [SubjectEnum.chemistry]\n",
    "\n",
    "citation.add_description(text=\"Some description\", date=\"1991\")\n",
    "citation.add_author(name=\"Jan Range\", affiliation=\"SimTech\")\n",
    "citation.add_contact(name=\"Jan Range\", email=\"jan.range@simtech.uni-stuttgart.de\")"
   ]
  },
  {
   "cell_type": "code",
   "execution_count": 12,
   "id": "8f4428f2-0055-4b2d-97c2-f2ca9de181e9",
   "metadata": {},
   "outputs": [],
   "source": [
    "# Fill in process relevant fields\n",
    "process.add_processing_methods(name=\"Some Process\", parameters=\"Param1, Param2\")\n",
    "process.add_method_parameters(name=\"Param1\", value=10)\n",
    "process.add_method_parameters(name=\"Param2\", textual_value=\"Textual\")"
   ]
  },
  {
   "cell_type": "code",
   "execution_count": 13,
   "id": "7deb573a-1f19-4f96-a39a-1a397a630eca",
   "metadata": {},
   "outputs": [],
   "source": [
    "# Add each metadatablock to the dataset\n",
    "dataset.add_metadatablock(citation)\n",
    "dataset.add_metadatablock(process)"
   ]
  },
  {
   "cell_type": "code",
   "execution_count": 14,
   "id": "2867742c-6394-4d05-be5b-838659c97881",
   "metadata": {},
   "outputs": [],
   "source": [
    "# Oops, forgot an author. Lets add it ...\n",
    "dataset.citation.add_author(name=\"Max Mustermann\", affiliation=\"SimTech\")"
   ]
  },
  {
   "cell_type": "code",
   "execution_count": 15,
   "id": "033ce1f1-009c-4dbc-9d1f-0ee0e8f049b5",
   "metadata": {},
   "outputs": [
    {
     "name": "stdout",
     "output_type": "stream",
     "text": [
      "Dataset with pid 'doi:10.18419/darus-2366' created.\n"
     ]
    }
   ],
   "source": [
    "# Finally, upload the dataset to dataverse\n",
    "# URL and API_TOKEN will be inferred from the env\n",
    "p_id = dataset.upload(dataverse_name=\"playground\", filenames=[\"pyDaRUS\"])"
   ]
  },
  {
   "cell_type": "markdown",
   "id": "ba9e3f45-cb5a-4004-9b26-f3e199418121",
   "metadata": {},
   "source": [
    "## Download a dataset from Dataverse"
   ]
  },
  {
   "cell_type": "code",
   "execution_count": 9,
   "id": "84a55efe-bfa8-48be-b446-acc2a3ea994d",
   "metadata": {},
   "outputs": [],
   "source": [
    "# Retrieve a dataset from Dataverse by using the given DOI/PID\n",
    "dataset = Dataset.from_dataverse_doi(p_id)\n",
    "\n",
    "# Additions\n",
    "dataset.citation.add_contact(name=\"Peter Meter\", email=\"petermeter@meter.de\")\n",
    "\n",
    "# Changes\n",
    "dataset.citation.author[0].name = \"Jan Peter Ranger\"\n",
    "\n",
    "# Pseudo Changes\n",
    "dataset.citation.depositor = \"Jan Range\"\n",
    "\n",
    "# Removals\n",
    "del dataset.citation.author[1]"
   ]
  },
  {
   "cell_type": "code",
   "execution_count": 10,
   "id": "8347accd-a738-48da-b774-2b1b4ee2bf2d",
   "metadata": {},
   "outputs": [
    {
     "ename": "Exception",
     "evalue": "Not a superuser",
     "output_type": "error",
     "traceback": [
      "\u001b[0;31m---------------------------------------------------------------------------\u001b[0m",
      "\u001b[0;31mException\u001b[0m                                 Traceback (most recent call last)",
      "\u001b[0;32m/var/folders/0f/gvqwxk9d46z_cz6w3zg6yn1m0000gn/T/ipykernel_26100/746605685.py\u001b[0m in \u001b[0;36m<module>\u001b[0;34m\u001b[0m\n\u001b[0;32m----> 1\u001b[0;31m \u001b[0mdataset\u001b[0m\u001b[0;34m.\u001b[0m\u001b[0mupload\u001b[0m\u001b[0;34m(\u001b[0m\u001b[0mdataverse_name\u001b[0m\u001b[0;34m=\u001b[0m\u001b[0;34m\"playground\"\u001b[0m\u001b[0;34m,\u001b[0m \u001b[0mfilenames\u001b[0m\u001b[0;34m=\u001b[0m\u001b[0;34m[\u001b[0m\u001b[0;34m\"Example.ipynb\"\u001b[0m\u001b[0;34m]\u001b[0m\u001b[0;34m)\u001b[0m\u001b[0;34m\u001b[0m\u001b[0;34m\u001b[0m\u001b[0m\n\u001b[0m",
      "\u001b[0;32m/opt/homebrew/Caskroom/miniforge/base/envs/easydataverse/lib/python3.10/site-packages/easyDataverse/core/dataset.py\u001b[0m in \u001b[0;36mupload\u001b[0;34m(self, dataverse_name, filenames)\u001b[0m\n\u001b[1;32m     93\u001b[0m         \"\"\"\n\u001b[1;32m     94\u001b[0m \u001b[0;34m\u001b[0m\u001b[0m\n\u001b[0;32m---> 95\u001b[0;31m         self.p_id = upload_to_dataverse(\n\u001b[0m\u001b[1;32m     96\u001b[0m             \u001b[0mjson_data\u001b[0m\u001b[0;34m=\u001b[0m\u001b[0mself\u001b[0m\u001b[0;34m.\u001b[0m\u001b[0mdataverse_json\u001b[0m\u001b[0;34m(\u001b[0m\u001b[0;34m)\u001b[0m\u001b[0;34m,\u001b[0m\u001b[0;34m\u001b[0m\u001b[0;34m\u001b[0m\u001b[0m\n\u001b[1;32m     97\u001b[0m             \u001b[0mdataverse_name\u001b[0m\u001b[0;34m=\u001b[0m\u001b[0mdataverse_name\u001b[0m\u001b[0;34m,\u001b[0m\u001b[0;34m\u001b[0m\u001b[0;34m\u001b[0m\u001b[0m\n",
      "\u001b[0;32m/opt/homebrew/Caskroom/miniforge/base/envs/easydataverse/lib/python3.10/site-packages/easyDataverse/core/uploader.py\u001b[0m in \u001b[0;36mupload_to_dataverse\u001b[0;34m(json_data, dataverse_name, filenames, p_id)\u001b[0m\n\u001b[1;32m     57\u001b[0m \u001b[0;34m\u001b[0m\u001b[0m\n\u001b[1;32m     58\u001b[0m         \u001b[0;32mif\u001b[0m \u001b[0mresponse\u001b[0m\u001b[0;34m.\u001b[0m\u001b[0mjson\u001b[0m\u001b[0;34m(\u001b[0m\u001b[0;34m)\u001b[0m\u001b[0;34m[\u001b[0m\u001b[0;34m\"status\"\u001b[0m\u001b[0;34m]\u001b[0m \u001b[0;34m!=\u001b[0m \u001b[0;34m\"OK\"\u001b[0m\u001b[0;34m:\u001b[0m\u001b[0;34m\u001b[0m\u001b[0;34m\u001b[0m\u001b[0m\n\u001b[0;32m---> 59\u001b[0;31m             \u001b[0;32mraise\u001b[0m \u001b[0mException\u001b[0m\u001b[0;34m(\u001b[0m\u001b[0mresponse\u001b[0m\u001b[0;34m.\u001b[0m\u001b[0mjson\u001b[0m\u001b[0;34m(\u001b[0m\u001b[0;34m)\u001b[0m\u001b[0;34m[\u001b[0m\u001b[0;34m\"message\"\u001b[0m\u001b[0;34m]\u001b[0m\u001b[0;34m)\u001b[0m\u001b[0;34m\u001b[0m\u001b[0;34m\u001b[0m\u001b[0m\n\u001b[0m\u001b[1;32m     60\u001b[0m \u001b[0;34m\u001b[0m\u001b[0m\n\u001b[1;32m     61\u001b[0m         \u001b[0;31m# Get response data\u001b[0m\u001b[0;34m\u001b[0m\u001b[0;34m\u001b[0m\u001b[0m\n",
      "\u001b[0;31mException\u001b[0m: Not a superuser"
     ]
    }
   ],
   "source": [
    "dataset.update(dataverse_name=\"playground\", filenames=[\"Example.ipynb\"])"
   ]
  },
  {
   "cell_type": "code",
   "execution_count": null,
   "id": "d1c43de4-6b21-4267-8277-802df8d89dc6",
   "metadata": {},
   "outputs": [],
   "source": []
  }
 ],
 "metadata": {
  "kernelspec": {
   "display_name": "easydataverse",
   "language": "python",
   "name": "easydataverse"
  },
  "language_info": {
   "codemirror_mode": {
    "name": "ipython",
    "version": 3
   },
   "file_extension": ".py",
   "mimetype": "text/x-python",
   "name": "python",
   "nbconvert_exporter": "python",
   "pygments_lexer": "ipython3",
   "version": "3.10.1"
  }
 },
 "nbformat": 4,
 "nbformat_minor": 5
}
